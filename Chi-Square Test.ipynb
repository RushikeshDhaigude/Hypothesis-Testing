{
 "cells": [
  {
   "cell_type": "markdown",
   "id": "6c514719",
   "metadata": {},
   "source": [
    "## Chi-Square Test"
   ]
  },
  {
   "cell_type": "code",
   "execution_count": 1,
   "id": "c95eb3d5",
   "metadata": {},
   "outputs": [],
   "source": [
    "# import pandas\n",
    "import pandas as pd\n",
    "\n",
    "# import 'numpy' \n",
    "import numpy as np\n",
    "\n",
    "# import subpackage of matplotlib\n",
    "import matplotlib.pyplot as plt\n",
    "\n",
    "# import 'seaborn'\n",
    "import seaborn as sns\n",
    "\n",
    "# to suppress warnings \n",
    "from warnings import filterwarnings\n",
    "filterwarnings('ignore')\n",
    "\n",
    "# import statistics to perform statistical computation  \n",
    "import statistics\n",
    "\n",
    "# import 'stats' package from scipy library\n",
    "from scipy import stats\n",
    "\n",
    "# import a library to perform Z-test\n",
    "from statsmodels.stats import weightstats as stests\n",
    "\n",
    "# to test the normality \n",
    "from scipy.stats import shapiro\n",
    "\n",
    "# import the function to calculate the power of test\n",
    "from statsmodels.stats import power"
   ]
  },
  {
   "cell_type": "markdown",
   "id": "c36ef0e1",
   "metadata": {},
   "source": [
    "### What is a chi-square test?\n",
    "\n",
    "- A Pearson’s chi-square test is a statistical test for categorical data.\n",
    "- It is used to determine whether your data are significantly different from what you expected. \n",
    "\n",
    "There are two types of Pearson’s chi-square tests:\n",
    "\n",
    "- The chi-square goodness of fit test is used to test whether the frequency distribution of a categorical variable is different from your expectations.\n",
    "- The chi-square test of independence is used to test whether two categorical variables are related to each other.\n",
    "\n",
    "### What is the chi-square goodness of fit test?\n",
    "\n",
    "- A chi-square (Χ2) goodness of fit test is a goodness of fit test for a categorical variable. Goodness of fit is a measure of how well a statistical model fits a set of observations.\n",
    "\n",
    "      When goodness of fit is high, the values expected based on the model are close to the observed values.\n",
    "      When goodness of fit is low, the values expected based on the model are far from the observed values.\n",
    "      \n",
    "### What is the chi-square test of independence?\n",
    "\n",
    "- chi-square test of independence, also known as a chi-square test of association, to determine whether two categorical variables are related.\n",
    "- The test compares the observed frequencies to the frequencies you would expect if the two variables are unrelated.\n",
    "- When the variables are unrelated, the observed and expected frequencies will be similar.\n",
    "\n",
    "### Contingency tables\n",
    "\n",
    "- When you want to perform a chi-square test of independence, the best way to organize your data is a type of frequency distribution table called a contingency table.\n",
    "- A contingency table, also known as a cross tabulation or crosstab, shows the number of observations in each combination of groups. \n",
    "- It also usually includes row and column totals.\n",
    "\n",
    "\n",
    "### The chi-square formula\n",
    "\n",
    "$\\begin{equation*} X^2=\\sum{\\frac{(O-E)^2}{E}} \\end{equation*}$\n",
    "\n",
    "Where:\n",
    "\n",
    "    Χ2 is the chi-square test statistic\n",
    "    Σ is the summation operator (it means “take the sum of”)\n",
    "    O is the observed frequency\n",
    "    E is the expected frequency\n",
    "\n",
    "### When to use a chi-square test\n",
    "\n",
    "1. You want to test a hypothesis about one or more categorical variables. \n",
    "2. The sample was randomly selected from the population.\n",
    "3. There are a minimum of five observations expected in each group or combination of groups.\n",
    "\n",
    "### Chi-square test properties\n",
    "\n",
    "1. Two times the number of degrees of freedom is equal to the variance.\n",
    "2. The number of degree of freedom is equal to the mean distribution\n",
    "3. The chi-square distribution curve approaches the normal distribution when the degree of freedom increases.\n",
    "\n",
    "### Some of the uses of the Chi-Squared test:\n",
    "\n",
    "1. The Chi-squared test can be used to see if your data follows a well-known theoretical probability distribution like the Normal or Poisson distribution.\n",
    "2. The Chi-squared test allows you to assess your trained regression model's goodness of fit on the training, validation, and test data sets.\n",
    "\n"
   ]
  },
  {
   "cell_type": "code",
   "execution_count": 2,
   "id": "bf52c8c1",
   "metadata": {},
   "outputs": [],
   "source": [
    "from scipy.stats import chi2\n",
    "from scipy.stats import chisquare\n",
    "from scipy.stats import chi2_contingency"
   ]
  },
  {
   "cell_type": "markdown",
   "id": "6a8b3b3c",
   "metadata": {},
   "source": [
    "### Goodness of fit\n",
    "\n",
    "- Does data follows certain pattern or behaviour."
   ]
  },
  {
   "cell_type": "markdown",
   "id": "027a63c2",
   "metadata": {},
   "source": [
    "Example 1:\n",
    "- A company in Los Angeles has three functional departments - Research and Development, Sales, and Human Resources. The company claims that the percentage of employees in these 3 departments is 55%, 35% and 10% respectively. Check the company's claim using p-value criteria. Consider a 5% level of significance.\n",
    "\n",
    "  The null and alternative hypothesis is:\n",
    "\n",
    "- H0: There is no significant difference between the observed and expected values.\n",
    "\n",
    "- H1: There is a significant difference between the observed and expected values.\n",
    "\n"
   ]
  },
  {
   "cell_type": "code",
   "execution_count": 3,
   "id": "9b315459",
   "metadata": {},
   "outputs": [
    {
     "data": {
      "text/html": [
       "<div>\n",
       "<style scoped>\n",
       "    .dataframe tbody tr th:only-of-type {\n",
       "        vertical-align: middle;\n",
       "    }\n",
       "\n",
       "    .dataframe tbody tr th {\n",
       "        vertical-align: top;\n",
       "    }\n",
       "\n",
       "    .dataframe thead th {\n",
       "        text-align: right;\n",
       "    }\n",
       "</style>\n",
       "<table border=\"1\" class=\"dataframe\">\n",
       "  <thead>\n",
       "    <tr style=\"text-align: right;\">\n",
       "      <th></th>\n",
       "      <th>Age</th>\n",
       "      <th>Attrition</th>\n",
       "      <th>BusinessTravel</th>\n",
       "      <th>DailyRate</th>\n",
       "      <th>Department</th>\n",
       "      <th>DistanceFromHome</th>\n",
       "      <th>Education</th>\n",
       "      <th>EducationField</th>\n",
       "      <th>EmployeeCount</th>\n",
       "      <th>EmployeeNumber</th>\n",
       "      <th>...</th>\n",
       "      <th>RelationshipSatisfaction</th>\n",
       "      <th>StandardHours</th>\n",
       "      <th>StockOptionLevel</th>\n",
       "      <th>TotalWorkingYears</th>\n",
       "      <th>TrainingTimesLastYear</th>\n",
       "      <th>WorkLifeBalance</th>\n",
       "      <th>YearsAtCompany</th>\n",
       "      <th>YearsInCurrentRole</th>\n",
       "      <th>YearsSinceLastPromotion</th>\n",
       "      <th>YearsWithCurrManager</th>\n",
       "    </tr>\n",
       "  </thead>\n",
       "  <tbody>\n",
       "    <tr>\n",
       "      <th>0</th>\n",
       "      <td>41</td>\n",
       "      <td>Yes</td>\n",
       "      <td>Travel_Rarely</td>\n",
       "      <td>1102</td>\n",
       "      <td>Sales</td>\n",
       "      <td>1</td>\n",
       "      <td>2</td>\n",
       "      <td>Life Sciences</td>\n",
       "      <td>1</td>\n",
       "      <td>1</td>\n",
       "      <td>...</td>\n",
       "      <td>1</td>\n",
       "      <td>80</td>\n",
       "      <td>0</td>\n",
       "      <td>8</td>\n",
       "      <td>0</td>\n",
       "      <td>1</td>\n",
       "      <td>6</td>\n",
       "      <td>4</td>\n",
       "      <td>0</td>\n",
       "      <td>5</td>\n",
       "    </tr>\n",
       "    <tr>\n",
       "      <th>1</th>\n",
       "      <td>49</td>\n",
       "      <td>No</td>\n",
       "      <td>Travel_Frequently</td>\n",
       "      <td>279</td>\n",
       "      <td>Research &amp; Development</td>\n",
       "      <td>8</td>\n",
       "      <td>1</td>\n",
       "      <td>Life Sciences</td>\n",
       "      <td>1</td>\n",
       "      <td>2</td>\n",
       "      <td>...</td>\n",
       "      <td>4</td>\n",
       "      <td>80</td>\n",
       "      <td>1</td>\n",
       "      <td>10</td>\n",
       "      <td>3</td>\n",
       "      <td>3</td>\n",
       "      <td>10</td>\n",
       "      <td>7</td>\n",
       "      <td>1</td>\n",
       "      <td>7</td>\n",
       "    </tr>\n",
       "    <tr>\n",
       "      <th>2</th>\n",
       "      <td>37</td>\n",
       "      <td>Yes</td>\n",
       "      <td>Travel_Rarely</td>\n",
       "      <td>1373</td>\n",
       "      <td>Research &amp; Development</td>\n",
       "      <td>2</td>\n",
       "      <td>2</td>\n",
       "      <td>Other</td>\n",
       "      <td>1</td>\n",
       "      <td>4</td>\n",
       "      <td>...</td>\n",
       "      <td>2</td>\n",
       "      <td>80</td>\n",
       "      <td>0</td>\n",
       "      <td>7</td>\n",
       "      <td>3</td>\n",
       "      <td>3</td>\n",
       "      <td>0</td>\n",
       "      <td>0</td>\n",
       "      <td>0</td>\n",
       "      <td>0</td>\n",
       "    </tr>\n",
       "    <tr>\n",
       "      <th>3</th>\n",
       "      <td>33</td>\n",
       "      <td>No</td>\n",
       "      <td>Travel_Frequently</td>\n",
       "      <td>1392</td>\n",
       "      <td>Research &amp; Development</td>\n",
       "      <td>3</td>\n",
       "      <td>4</td>\n",
       "      <td>Life Sciences</td>\n",
       "      <td>1</td>\n",
       "      <td>5</td>\n",
       "      <td>...</td>\n",
       "      <td>3</td>\n",
       "      <td>80</td>\n",
       "      <td>0</td>\n",
       "      <td>8</td>\n",
       "      <td>3</td>\n",
       "      <td>3</td>\n",
       "      <td>8</td>\n",
       "      <td>7</td>\n",
       "      <td>3</td>\n",
       "      <td>0</td>\n",
       "    </tr>\n",
       "    <tr>\n",
       "      <th>4</th>\n",
       "      <td>27</td>\n",
       "      <td>No</td>\n",
       "      <td>Travel_Rarely</td>\n",
       "      <td>591</td>\n",
       "      <td>Research &amp; Development</td>\n",
       "      <td>2</td>\n",
       "      <td>1</td>\n",
       "      <td>Medical</td>\n",
       "      <td>1</td>\n",
       "      <td>7</td>\n",
       "      <td>...</td>\n",
       "      <td>4</td>\n",
       "      <td>80</td>\n",
       "      <td>1</td>\n",
       "      <td>6</td>\n",
       "      <td>3</td>\n",
       "      <td>3</td>\n",
       "      <td>2</td>\n",
       "      <td>2</td>\n",
       "      <td>2</td>\n",
       "      <td>2</td>\n",
       "    </tr>\n",
       "  </tbody>\n",
       "</table>\n",
       "<p>5 rows × 35 columns</p>\n",
       "</div>"
      ],
      "text/plain": [
       "   Age Attrition     BusinessTravel  DailyRate              Department  \\\n",
       "0   41       Yes      Travel_Rarely       1102                   Sales   \n",
       "1   49        No  Travel_Frequently        279  Research & Development   \n",
       "2   37       Yes      Travel_Rarely       1373  Research & Development   \n",
       "3   33        No  Travel_Frequently       1392  Research & Development   \n",
       "4   27        No      Travel_Rarely        591  Research & Development   \n",
       "\n",
       "   DistanceFromHome  Education EducationField  EmployeeCount  EmployeeNumber  \\\n",
       "0                 1          2  Life Sciences              1               1   \n",
       "1                 8          1  Life Sciences              1               2   \n",
       "2                 2          2          Other              1               4   \n",
       "3                 3          4  Life Sciences              1               5   \n",
       "4                 2          1        Medical              1               7   \n",
       "\n",
       "   ...  RelationshipSatisfaction StandardHours  StockOptionLevel  \\\n",
       "0  ...                         1            80                 0   \n",
       "1  ...                         4            80                 1   \n",
       "2  ...                         2            80                 0   \n",
       "3  ...                         3            80                 0   \n",
       "4  ...                         4            80                 1   \n",
       "\n",
       "   TotalWorkingYears  TrainingTimesLastYear WorkLifeBalance  YearsAtCompany  \\\n",
       "0                  8                      0               1               6   \n",
       "1                 10                      3               3              10   \n",
       "2                  7                      3               3               0   \n",
       "3                  8                      3               3               8   \n",
       "4                  6                      3               3               2   \n",
       "\n",
       "  YearsInCurrentRole  YearsSinceLastPromotion  YearsWithCurrManager  \n",
       "0                  4                        0                     5  \n",
       "1                  7                        1                     7  \n",
       "2                  0                        0                     0  \n",
       "3                  7                        3                     0  \n",
       "4                  2                        2                     2  \n",
       "\n",
       "[5 rows x 35 columns]"
      ]
     },
     "execution_count": 3,
     "metadata": {},
     "output_type": "execute_result"
    }
   ],
   "source": [
    "df_emp=pd.read_csv(r\"C:\\Users\\Shree\\Desktop\\ANALYTICS VIDYA\\PYTHON\\class\\Employee_Attrition.csv\")\n",
    "df_emp.head()"
   ]
  },
  {
   "cell_type": "code",
   "execution_count": 4,
   "id": "2970cd44",
   "metadata": {},
   "outputs": [
    {
     "data": {
      "text/plain": [
       "Research & Development    961\n",
       "Sales                     446\n",
       "Human Resources            63\n",
       "Name: Department, dtype: int64"
      ]
     },
     "execution_count": 4,
     "metadata": {},
     "output_type": "execute_result"
    }
   ],
   "source": [
    "df_emp[\"Department\"].value_counts()"
   ]
  },
  {
   "cell_type": "code",
   "execution_count": 5,
   "id": "71f52514",
   "metadata": {},
   "outputs": [
    {
     "data": {
      "text/html": [
       "<div>\n",
       "<style scoped>\n",
       "    .dataframe tbody tr th:only-of-type {\n",
       "        vertical-align: middle;\n",
       "    }\n",
       "\n",
       "    .dataframe tbody tr th {\n",
       "        vertical-align: top;\n",
       "    }\n",
       "\n",
       "    .dataframe thead th {\n",
       "        text-align: right;\n",
       "    }\n",
       "</style>\n",
       "<table border=\"1\" class=\"dataframe\">\n",
       "  <thead>\n",
       "    <tr style=\"text-align: right;\">\n",
       "      <th></th>\n",
       "      <th>index</th>\n",
       "      <th>Department</th>\n",
       "    </tr>\n",
       "  </thead>\n",
       "  <tbody>\n",
       "    <tr>\n",
       "      <th>0</th>\n",
       "      <td>Research &amp; Development</td>\n",
       "      <td>0.653741</td>\n",
       "    </tr>\n",
       "    <tr>\n",
       "      <th>1</th>\n",
       "      <td>Sales</td>\n",
       "      <td>0.303401</td>\n",
       "    </tr>\n",
       "    <tr>\n",
       "      <th>2</th>\n",
       "      <td>Human Resources</td>\n",
       "      <td>0.042857</td>\n",
       "    </tr>\n",
       "  </tbody>\n",
       "</table>\n",
       "</div>"
      ],
      "text/plain": [
       "                    index  Department\n",
       "0  Research & Development    0.653741\n",
       "1                   Sales    0.303401\n",
       "2         Human Resources    0.042857"
      ]
     },
     "execution_count": 5,
     "metadata": {},
     "output_type": "execute_result"
    }
   ],
   "source": [
    "obs_values=df_emp[\"Department\"].value_counts(normalize=True).reset_index()\n",
    "obs_values"
   ]
  },
  {
   "cell_type": "code",
   "execution_count": 6,
   "id": "e239963e",
   "metadata": {},
   "outputs": [
    {
     "data": {
      "text/plain": [
       "0.6537414965986394"
      ]
     },
     "execution_count": 6,
     "metadata": {},
     "output_type": "execute_result"
    }
   ],
   "source": [
    "obs_values[\"Department\"][0]"
   ]
  },
  {
   "cell_type": "markdown",
   "id": "d4eac8fe",
   "metadata": {},
   "source": [
    "### stats.chisquare()\n",
    "\n",
    "- Calculate a one-way chi-square test.\n",
    "\n",
    "- The chi-square test tests the null hypothesis that the categorical data has the given frequencies."
   ]
  },
  {
   "cell_type": "code",
   "execution_count": 7,
   "id": "499573f4",
   "metadata": {},
   "outputs": [
    {
     "name": "stdout",
     "output_type": "stream",
     "text": [
      "chi-score: 0.05842497083646603\n",
      "p-value: 0.9712100745610734\n",
      "chi critical: 5.991464547107983\n",
      "P-value approach: Fail to reject null hypothesis\n",
      "Critical value approach: Fail to reject null hypothesis\n"
     ]
    }
   ],
   "source": [
    "n=3\n",
    "alpha=0.05\n",
    "\n",
    "observed_values=[obs_values[\"Department\"][0],obs_values[\"Department\"][1],obs_values[\"Department\"][2]]\n",
    "expected_values=[0.55,0.35,0.1]\n",
    "\n",
    "chi_score, p_value = stats.chisquare(f_obs = observed_values, f_exp = expected_values)\n",
    "print(\"chi-score:\",chi_score)\n",
    "print(\"p-value:\",p_value)\n",
    "\n",
    "chi_critical=stats.chi2.isf(q = alpha, df =n-1 )\n",
    "print(\"chi critical:\",chi_critical)\n",
    "\n",
    "## P-value approach\n",
    "\n",
    "if (p_value <=alpha):   \n",
    "    print(\"P-value approach: Reject null hypothesis\")\n",
    "else:\n",
    "    print(\"P-value approach: Fail to reject null hypothesis\")\n",
    "    \n",
    "## Critical value approach\n",
    "\n",
    "if(chi_score > chi_critical):\n",
    "    print(\"Critical value approach: Reject null hypothesis\")\n",
    "else:\n",
    "    print(\"Critical value approach: Fail to reject null hypothesis\")"
   ]
  },
  {
   "cell_type": "markdown",
   "id": "1bc20dd7",
   "metadata": {},
   "source": [
    "Conclusion:\n",
    "- There is no significant difference between the observed and expected values."
   ]
  },
  {
   "cell_type": "markdown",
   "id": "1d12f90b",
   "metadata": {},
   "source": [
    "### Independant Test"
   ]
  },
  {
   "cell_type": "markdown",
   "id": "091bf545",
   "metadata": {},
   "source": [
    "Example 2:\n",
    "- Check whether travelling for work depends upon the job role of an employee. Use p-value criteria to test the dependence with 99% confidence.\n",
    "\n",
    "  The null and alternative hypothesis is:\n",
    "\n",
    "- H0: Business travel and job role are independent\n",
    "- H1: Business travel and job role are not independent"
   ]
  },
  {
   "cell_type": "code",
   "execution_count": 8,
   "id": "92b25527",
   "metadata": {},
   "outputs": [
    {
     "data": {
      "text/html": [
       "<div>\n",
       "<style scoped>\n",
       "    .dataframe tbody tr th:only-of-type {\n",
       "        vertical-align: middle;\n",
       "    }\n",
       "\n",
       "    .dataframe tbody tr th {\n",
       "        vertical-align: top;\n",
       "    }\n",
       "\n",
       "    .dataframe thead th {\n",
       "        text-align: right;\n",
       "    }\n",
       "</style>\n",
       "<table border=\"1\" class=\"dataframe\">\n",
       "  <thead>\n",
       "    <tr style=\"text-align: right;\">\n",
       "      <th></th>\n",
       "      <th>Age</th>\n",
       "      <th>Attrition</th>\n",
       "      <th>BusinessTravel</th>\n",
       "      <th>DailyRate</th>\n",
       "      <th>Department</th>\n",
       "      <th>DistanceFromHome</th>\n",
       "      <th>Education</th>\n",
       "      <th>EducationField</th>\n",
       "      <th>EmployeeCount</th>\n",
       "      <th>EmployeeNumber</th>\n",
       "      <th>...</th>\n",
       "      <th>RelationshipSatisfaction</th>\n",
       "      <th>StandardHours</th>\n",
       "      <th>StockOptionLevel</th>\n",
       "      <th>TotalWorkingYears</th>\n",
       "      <th>TrainingTimesLastYear</th>\n",
       "      <th>WorkLifeBalance</th>\n",
       "      <th>YearsAtCompany</th>\n",
       "      <th>YearsInCurrentRole</th>\n",
       "      <th>YearsSinceLastPromotion</th>\n",
       "      <th>YearsWithCurrManager</th>\n",
       "    </tr>\n",
       "  </thead>\n",
       "  <tbody>\n",
       "    <tr>\n",
       "      <th>0</th>\n",
       "      <td>41</td>\n",
       "      <td>Yes</td>\n",
       "      <td>Travel_Rarely</td>\n",
       "      <td>1102</td>\n",
       "      <td>Sales</td>\n",
       "      <td>1</td>\n",
       "      <td>2</td>\n",
       "      <td>Life Sciences</td>\n",
       "      <td>1</td>\n",
       "      <td>1</td>\n",
       "      <td>...</td>\n",
       "      <td>1</td>\n",
       "      <td>80</td>\n",
       "      <td>0</td>\n",
       "      <td>8</td>\n",
       "      <td>0</td>\n",
       "      <td>1</td>\n",
       "      <td>6</td>\n",
       "      <td>4</td>\n",
       "      <td>0</td>\n",
       "      <td>5</td>\n",
       "    </tr>\n",
       "    <tr>\n",
       "      <th>1</th>\n",
       "      <td>49</td>\n",
       "      <td>No</td>\n",
       "      <td>Travel_Frequently</td>\n",
       "      <td>279</td>\n",
       "      <td>Research &amp; Development</td>\n",
       "      <td>8</td>\n",
       "      <td>1</td>\n",
       "      <td>Life Sciences</td>\n",
       "      <td>1</td>\n",
       "      <td>2</td>\n",
       "      <td>...</td>\n",
       "      <td>4</td>\n",
       "      <td>80</td>\n",
       "      <td>1</td>\n",
       "      <td>10</td>\n",
       "      <td>3</td>\n",
       "      <td>3</td>\n",
       "      <td>10</td>\n",
       "      <td>7</td>\n",
       "      <td>1</td>\n",
       "      <td>7</td>\n",
       "    </tr>\n",
       "    <tr>\n",
       "      <th>2</th>\n",
       "      <td>37</td>\n",
       "      <td>Yes</td>\n",
       "      <td>Travel_Rarely</td>\n",
       "      <td>1373</td>\n",
       "      <td>Research &amp; Development</td>\n",
       "      <td>2</td>\n",
       "      <td>2</td>\n",
       "      <td>Other</td>\n",
       "      <td>1</td>\n",
       "      <td>4</td>\n",
       "      <td>...</td>\n",
       "      <td>2</td>\n",
       "      <td>80</td>\n",
       "      <td>0</td>\n",
       "      <td>7</td>\n",
       "      <td>3</td>\n",
       "      <td>3</td>\n",
       "      <td>0</td>\n",
       "      <td>0</td>\n",
       "      <td>0</td>\n",
       "      <td>0</td>\n",
       "    </tr>\n",
       "    <tr>\n",
       "      <th>3</th>\n",
       "      <td>33</td>\n",
       "      <td>No</td>\n",
       "      <td>Travel_Frequently</td>\n",
       "      <td>1392</td>\n",
       "      <td>Research &amp; Development</td>\n",
       "      <td>3</td>\n",
       "      <td>4</td>\n",
       "      <td>Life Sciences</td>\n",
       "      <td>1</td>\n",
       "      <td>5</td>\n",
       "      <td>...</td>\n",
       "      <td>3</td>\n",
       "      <td>80</td>\n",
       "      <td>0</td>\n",
       "      <td>8</td>\n",
       "      <td>3</td>\n",
       "      <td>3</td>\n",
       "      <td>8</td>\n",
       "      <td>7</td>\n",
       "      <td>3</td>\n",
       "      <td>0</td>\n",
       "    </tr>\n",
       "    <tr>\n",
       "      <th>4</th>\n",
       "      <td>27</td>\n",
       "      <td>No</td>\n",
       "      <td>Travel_Rarely</td>\n",
       "      <td>591</td>\n",
       "      <td>Research &amp; Development</td>\n",
       "      <td>2</td>\n",
       "      <td>1</td>\n",
       "      <td>Medical</td>\n",
       "      <td>1</td>\n",
       "      <td>7</td>\n",
       "      <td>...</td>\n",
       "      <td>4</td>\n",
       "      <td>80</td>\n",
       "      <td>1</td>\n",
       "      <td>6</td>\n",
       "      <td>3</td>\n",
       "      <td>3</td>\n",
       "      <td>2</td>\n",
       "      <td>2</td>\n",
       "      <td>2</td>\n",
       "      <td>2</td>\n",
       "    </tr>\n",
       "  </tbody>\n",
       "</table>\n",
       "<p>5 rows × 35 columns</p>\n",
       "</div>"
      ],
      "text/plain": [
       "   Age Attrition     BusinessTravel  DailyRate              Department  \\\n",
       "0   41       Yes      Travel_Rarely       1102                   Sales   \n",
       "1   49        No  Travel_Frequently        279  Research & Development   \n",
       "2   37       Yes      Travel_Rarely       1373  Research & Development   \n",
       "3   33        No  Travel_Frequently       1392  Research & Development   \n",
       "4   27        No      Travel_Rarely        591  Research & Development   \n",
       "\n",
       "   DistanceFromHome  Education EducationField  EmployeeCount  EmployeeNumber  \\\n",
       "0                 1          2  Life Sciences              1               1   \n",
       "1                 8          1  Life Sciences              1               2   \n",
       "2                 2          2          Other              1               4   \n",
       "3                 3          4  Life Sciences              1               5   \n",
       "4                 2          1        Medical              1               7   \n",
       "\n",
       "   ...  RelationshipSatisfaction StandardHours  StockOptionLevel  \\\n",
       "0  ...                         1            80                 0   \n",
       "1  ...                         4            80                 1   \n",
       "2  ...                         2            80                 0   \n",
       "3  ...                         3            80                 0   \n",
       "4  ...                         4            80                 1   \n",
       "\n",
       "   TotalWorkingYears  TrainingTimesLastYear WorkLifeBalance  YearsAtCompany  \\\n",
       "0                  8                      0               1               6   \n",
       "1                 10                      3               3              10   \n",
       "2                  7                      3               3               0   \n",
       "3                  8                      3               3               8   \n",
       "4                  6                      3               3               2   \n",
       "\n",
       "  YearsInCurrentRole  YearsSinceLastPromotion  YearsWithCurrManager  \n",
       "0                  4                        0                     5  \n",
       "1                  7                        1                     7  \n",
       "2                  0                        0                     0  \n",
       "3                  7                        3                     0  \n",
       "4                  2                        2                     2  \n",
       "\n",
       "[5 rows x 35 columns]"
      ]
     },
     "execution_count": 8,
     "metadata": {},
     "output_type": "execute_result"
    }
   ],
   "source": [
    "df_emp.head()"
   ]
  },
  {
   "cell_type": "code",
   "execution_count": 9,
   "id": "c455f6ac",
   "metadata": {},
   "outputs": [
    {
     "data": {
      "text/plain": [
       "Index(['Age', 'Attrition', 'BusinessTravel', 'DailyRate', 'Department',\n",
       "       'DistanceFromHome', 'Education', 'EducationField', 'EmployeeCount',\n",
       "       'EmployeeNumber', 'EnvironmentSatisfaction', 'Gender', 'HourlyRate',\n",
       "       'JobInvolvement', 'JobLevel', 'JobRole', 'JobSatisfaction',\n",
       "       'MaritalStatus', 'MonthlyIncome', 'MonthlyRate', 'NumCompaniesWorked',\n",
       "       'Over18', 'OverTime', 'PercentSalaryHike', 'PerformanceRating',\n",
       "       'RelationshipSatisfaction', 'StandardHours', 'StockOptionLevel',\n",
       "       'TotalWorkingYears', 'TrainingTimesLastYear', 'WorkLifeBalance',\n",
       "       'YearsAtCompany', 'YearsInCurrentRole', 'YearsSinceLastPromotion',\n",
       "       'YearsWithCurrManager'],\n",
       "      dtype='object')"
      ]
     },
     "execution_count": 9,
     "metadata": {},
     "output_type": "execute_result"
    }
   ],
   "source": [
    "df_emp.columns"
   ]
  },
  {
   "cell_type": "code",
   "execution_count": 10,
   "id": "3179c798",
   "metadata": {},
   "outputs": [
    {
     "data": {
      "text/html": [
       "<div>\n",
       "<style scoped>\n",
       "    .dataframe tbody tr th:only-of-type {\n",
       "        vertical-align: middle;\n",
       "    }\n",
       "\n",
       "    .dataframe tbody tr th {\n",
       "        vertical-align: top;\n",
       "    }\n",
       "\n",
       "    .dataframe thead th {\n",
       "        text-align: right;\n",
       "    }\n",
       "</style>\n",
       "<table border=\"1\" class=\"dataframe\">\n",
       "  <thead>\n",
       "    <tr style=\"text-align: right;\">\n",
       "      <th>JobRole</th>\n",
       "      <th>Healthcare Representative</th>\n",
       "      <th>Human Resources</th>\n",
       "      <th>Laboratory Technician</th>\n",
       "      <th>Manager</th>\n",
       "      <th>Manufacturing Director</th>\n",
       "      <th>Research Director</th>\n",
       "      <th>Research Scientist</th>\n",
       "      <th>Sales Executive</th>\n",
       "      <th>Sales Representative</th>\n",
       "    </tr>\n",
       "    <tr>\n",
       "      <th>BusinessTravel</th>\n",
       "      <th></th>\n",
       "      <th></th>\n",
       "      <th></th>\n",
       "      <th></th>\n",
       "      <th></th>\n",
       "      <th></th>\n",
       "      <th></th>\n",
       "      <th></th>\n",
       "      <th></th>\n",
       "    </tr>\n",
       "  </thead>\n",
       "  <tbody>\n",
       "    <tr>\n",
       "      <th>Non-Travel</th>\n",
       "      <td>15</td>\n",
       "      <td>4</td>\n",
       "      <td>28</td>\n",
       "      <td>12</td>\n",
       "      <td>13</td>\n",
       "      <td>6</td>\n",
       "      <td>28</td>\n",
       "      <td>39</td>\n",
       "      <td>5</td>\n",
       "    </tr>\n",
       "    <tr>\n",
       "      <th>Travel_Frequently</th>\n",
       "      <td>26</td>\n",
       "      <td>10</td>\n",
       "      <td>51</td>\n",
       "      <td>13</td>\n",
       "      <td>29</td>\n",
       "      <td>12</td>\n",
       "      <td>54</td>\n",
       "      <td>59</td>\n",
       "      <td>23</td>\n",
       "    </tr>\n",
       "    <tr>\n",
       "      <th>Travel_Rarely</th>\n",
       "      <td>90</td>\n",
       "      <td>38</td>\n",
       "      <td>180</td>\n",
       "      <td>77</td>\n",
       "      <td>103</td>\n",
       "      <td>62</td>\n",
       "      <td>210</td>\n",
       "      <td>228</td>\n",
       "      <td>55</td>\n",
       "    </tr>\n",
       "  </tbody>\n",
       "</table>\n",
       "</div>"
      ],
      "text/plain": [
       "JobRole            Healthcare Representative  Human Resources  \\\n",
       "BusinessTravel                                                  \n",
       "Non-Travel                                15                4   \n",
       "Travel_Frequently                         26               10   \n",
       "Travel_Rarely                             90               38   \n",
       "\n",
       "JobRole            Laboratory Technician  Manager  Manufacturing Director  \\\n",
       "BusinessTravel                                                              \n",
       "Non-Travel                            28       12                      13   \n",
       "Travel_Frequently                     51       13                      29   \n",
       "Travel_Rarely                        180       77                     103   \n",
       "\n",
       "JobRole            Research Director  Research Scientist  Sales Executive  \\\n",
       "BusinessTravel                                                              \n",
       "Non-Travel                         6                  28               39   \n",
       "Travel_Frequently                 12                  54               59   \n",
       "Travel_Rarely                     62                 210              228   \n",
       "\n",
       "JobRole            Sales Representative  \n",
       "BusinessTravel                           \n",
       "Non-Travel                            5  \n",
       "Travel_Frequently                    23  \n",
       "Travel_Rarely                        55  "
      ]
     },
     "execution_count": 10,
     "metadata": {},
     "output_type": "execute_result"
    }
   ],
   "source": [
    "table = pd.crosstab(df_emp['BusinessTravel'], df_emp['JobRole'])\n",
    "table"
   ]
  },
  {
   "cell_type": "code",
   "execution_count": 11,
   "id": "17615ac4",
   "metadata": {},
   "outputs": [
    {
     "data": {
      "text/plain": [
       "array([[ 15,   4,  28,  12,  13,   6,  28,  39,   5],\n",
       "       [ 26,  10,  51,  13,  29,  12,  54,  59,  23],\n",
       "       [ 90,  38, 180,  77, 103,  62, 210, 228,  55]], dtype=int64)"
      ]
     },
     "execution_count": 11,
     "metadata": {},
     "output_type": "execute_result"
    }
   ],
   "source": [
    "obs = table.values\n",
    "obs"
   ]
  },
  {
   "cell_type": "code",
   "execution_count": 12,
   "id": "28addeaf",
   "metadata": {},
   "outputs": [
    {
     "data": {
      "text/plain": [
       "3"
      ]
     },
     "execution_count": 12,
     "metadata": {},
     "output_type": "execute_result"
    }
   ],
   "source": [
    "df_emp['BusinessTravel'].nunique()"
   ]
  },
  {
   "cell_type": "code",
   "execution_count": 13,
   "id": "93b8ecfd",
   "metadata": {},
   "outputs": [
    {
     "data": {
      "text/plain": [
       "9"
      ]
     },
     "execution_count": 13,
     "metadata": {},
     "output_type": "execute_result"
    }
   ],
   "source": [
    "df_emp['JobRole'].nunique()"
   ]
  },
  {
   "cell_type": "markdown",
   "id": "f6141915",
   "metadata": {},
   "source": [
    "### chi2_contingency()\n",
    "\n",
    "- Chi-square test of independence of variables in a contingency table.\n",
    "\n",
    "- This function computes the chi-square statistic and p-value for the hypothesis test of independence of the observed frequencies in the contingency table"
   ]
  },
  {
   "cell_type": "code",
   "execution_count": 14,
   "id": "c1512cc0",
   "metadata": {},
   "outputs": [
    {
     "name": "stdout",
     "output_type": "stream",
     "text": [
      "chi score value: 11.987695596739206\n",
      "p-value: 0.7448263418408124\n",
      "degree of freedom: 16\n"
     ]
    }
   ],
   "source": [
    "alpha=0.01\n",
    "\n",
    "chi_score, p_value, dof, expected_value = stats.chi2_contingency(observed = obs)\n",
    "\n",
    "print(\"chi score value:\",chi_score)\n",
    "print(\"p-value:\",p_value)\n",
    "print(\"degree of freedom:\",dof)"
   ]
  },
  {
   "cell_type": "code",
   "execution_count": 15,
   "id": "5b409d45",
   "metadata": {},
   "outputs": [
    {
     "name": "stdout",
     "output_type": "stream",
     "text": [
      "expected values: [[ 13.36734694   5.30612245  26.42857143  10.40816327  14.79591837\n",
      "    8.16326531  29.79591837  33.26530612   8.46938776]\n",
      " [ 24.68503401   9.79863946  48.8047619   19.22040816  27.32312925\n",
      "   15.07482993  55.02312925  61.42993197  15.64013605]\n",
      " [ 92.94761905  36.8952381  183.76666667  72.37142857 102.88095238\n",
      "   56.76190476 207.18095238 231.3047619   58.89047619]]\n"
     ]
    }
   ],
   "source": [
    "print(\"expected values:\",expected_value)"
   ]
  },
  {
   "cell_type": "code",
   "execution_count": 16,
   "id": "247a3814",
   "metadata": {},
   "outputs": [
    {
     "data": {
      "text/plain": [
       "31.999926908815176"
      ]
     },
     "execution_count": 16,
     "metadata": {},
     "output_type": "execute_result"
    }
   ],
   "source": [
    "chi_critical = stats.chi2.isf(q = alpha, df = dof )\n",
    "chi_critical"
   ]
  },
  {
   "cell_type": "code",
   "execution_count": 17,
   "id": "99f37e46",
   "metadata": {},
   "outputs": [
    {
     "name": "stdout",
     "output_type": "stream",
     "text": [
      "P-value approach: Fail to reject null hypothesis\n",
      "Critical value approach: Fail to reject null hypothesis\n"
     ]
    }
   ],
   "source": [
    "## P-value approach\n",
    "\n",
    "if (p_value <= alpha):   \n",
    "    print(\"P-value approach: Reject null hypothesis\")\n",
    "else:\n",
    "    print(\"P-value approach: Fail to reject null hypothesis\")\n",
    "    \n",
    "## Critical value approach\n",
    "\n",
    "if(chi_score > chi_critical):\n",
    "    print(\"Critical value approach: Reject null hypothesis\")\n",
    "else:\n",
    "    print(\"Critical value approach: Fail to reject null hypothesis\")"
   ]
  },
  {
   "cell_type": "markdown",
   "id": "2050abee",
   "metadata": {},
   "source": [
    "Conclusion:\n",
    "- Business travel and job role are independent."
   ]
  },
  {
   "cell_type": "markdown",
   "id": "ab0b195a",
   "metadata": {},
   "source": [
    "### References:\n",
    "- https://www.scribbr.com/statistics/chi-square-tests/\n",
    "- https://www.cuemath.com/chi-square-formula/"
   ]
  },
  {
   "cell_type": "code",
   "execution_count": null,
   "id": "b33b6ae5",
   "metadata": {},
   "outputs": [],
   "source": []
  }
 ],
 "metadata": {
  "kernelspec": {
   "display_name": "Python 3 (ipykernel)",
   "language": "python",
   "name": "python3"
  },
  "language_info": {
   "codemirror_mode": {
    "name": "ipython",
    "version": 3
   },
   "file_extension": ".py",
   "mimetype": "text/x-python",
   "name": "python",
   "nbconvert_exporter": "python",
   "pygments_lexer": "ipython3",
   "version": "3.10.2"
  }
 },
 "nbformat": 4,
 "nbformat_minor": 5
}
